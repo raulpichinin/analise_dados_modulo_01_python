{
  "nbformat": 4,
  "nbformat_minor": 0,
  "metadata": {
    "colab": {
      "provenance": [],
      "toc_visible": true
    },
    "kernelspec": {
      "name": "python3",
      "display_name": "Python 3"
    }
  },
  "cells": [
    {
      "cell_type": "markdown",
      "metadata": {
        "id": "KJqp9AANOCtf"
      },
      "source": [
        "<img src=\"https://raw.githubusercontent.com/andre-marcos-perez/ebac-course-utils/main/media/logo/newebac_logo_black_half.png\" alt=\"ebac-logo\">\n",
        "\n",
        "---\n",
        "\n",
        "# **Módulo** | Python: Estruturas de Dados\n",
        "Caderno de **Exercícios**<br>\n",
        "Professor [André Perez](https://www.linkedin.com/in/andremarcosperez/)\n",
        "Aluno Raul Pichinin\n",
        "---"
      ]
    },
    {
      "cell_type": "markdown",
      "metadata": {
        "id": "GABI6OW8OfQ2"
      },
      "source": [
        "# **Exercícios** 1. Listas"
      ]
    },
    {
      "cell_type": "markdown",
      "metadata": {
        "id": "ahrFfCuBxJKs"
      },
      "source": [
        "Criei uma lista chamada `filmes` com o nome dos 10 primeiros filmes mais bem avaliados no site no [IMDB](https://www.imdb.com/chart/top/). Imprima o resultado."
      ]
    },
    {
      "cell_type": "code",
      "source": [
        "filmes=['Um Sonho de Liberdade (1994)','O Poderoso Chefão (1972)',' Batman: O Cavaleiro das Trevas (2008)','O Poderoso Chefão II (1974)','12 Homens e uma Sentença (1957)','A Lista de Schindler (1993)','O Senhor dos Anéis: O Retorno do Rei (2003)',' Pulp Fiction: Tempo de Violência (1994)','O Senhor dos Anéis: A Sociedade do Anel (2001)','Três Homens em Conflito (1966)']\n",
        "\n",
        "print(filmes)\n",
        "print(type(filmes))"
      ],
      "metadata": {
        "id": "9Actl5pJbgh0"
      },
      "execution_count": null,
      "outputs": []
    },
    {
      "cell_type": "markdown",
      "metadata": {
        "id": "KI9zQRT2xa7m"
      },
      "source": [
        "Simule a movimentação do *ranking*. Utilize os métodos `insert` e `pop` para trocar a posição do primeiro e do segundo filme da lista. Imprima o resultado.\n",
        "\n"
      ]
    },
    {
      "cell_type": "code",
      "source": [
        "filmes.insert(0,'Pulp Fiction: Tempo de Violência (1994)')\n",
        "print(filmes)"
      ],
      "metadata": {
        "id": "nY9oNsCGcfC2",
        "colab": {
          "base_uri": "https://localhost:8080/"
        },
        "outputId": "3e04326f-0eaf-4934-fec9-3f7188b7aaef"
      },
      "execution_count": null,
      "outputs": [
        {
          "output_type": "stream",
          "name": "stdout",
          "text": [
            "['Pulp Fiction: Tempo de Violência (1994)', 'Um Sonho de Liberdade (1994)', 'O Poderoso Chefão (1972)', ' Batman: O Cavaleiro das Trevas (2008)', 'O Poderoso Chefão II (1974)', '12 Homens e uma Sentença (1957)', 'A Lista de Schindler (1993)', 'O Senhor dos Anéis: O Retorno do Rei (2003)', ' Pulp Fiction: Tempo de Violência (1994)', 'O Senhor dos Anéis: A Sociedade do Anel (2001)', 'Três Homens em Conflito (1966)']\n"
          ]
        }
      ]
    },
    {
      "cell_type": "code",
      "source": [
        "removendo_posicao = filmes.pop(2)\n",
        "print(removendo_posicao)\n",
        "print(filmes)"
      ],
      "metadata": {
        "id": "RNQ6u9dndHfA",
        "colab": {
          "base_uri": "https://localhost:8080/"
        },
        "outputId": "b7bc9868-0d87-47cc-ae82-95043b063598"
      },
      "execution_count": null,
      "outputs": [
        {
          "output_type": "stream",
          "name": "stdout",
          "text": [
            "O Poderoso Chefão (1972)\n",
            "['Pulp Fiction: Tempo de Violência (1994)', 'Um Sonho de Liberdade (1994)', ' Batman: O Cavaleiro das Trevas (2008)', 'O Poderoso Chefão II (1974)', '12 Homens e uma Sentença (1957)', 'A Lista de Schindler (1993)', 'O Senhor dos Anéis: O Retorno do Rei (2003)', ' Pulp Fiction: Tempo de Violência (1994)', 'O Senhor dos Anéis: A Sociedade do Anel (2001)', 'Três Homens em Conflito (1966)']\n"
          ]
        }
      ]
    },
    {
      "cell_type": "markdown",
      "metadata": {
        "id": "lxa5L6uF0ZJE"
      },
      "source": [
        "## 2\\. Conjuntos"
      ]
    },
    {
      "cell_type": "markdown",
      "metadata": {
        "id": "9JahS2Kj0d5u"
      },
      "source": [
        "Aconteceu um erro no seu *ranking*. Simule a duplicação dos três últimos filmes da lista. Imprima o resultado."
      ]
    },
    {
      "cell_type": "code",
      "metadata": {
        "id": "BnjnLBNC6PGe",
        "colab": {
          "base_uri": "https://localhost:8080/"
        },
        "outputId": "2480e984-b311-4ebb-aca4-5c34a7240474"
      },
      "source": [
        "filmes_repetidos=['Um Sonho de Liberdade (1994)', 'O Poderoso Chefão (1972)', ' Batman: O Cavaleiro das Trevas (2008)', 'O Poderoso Chefão II (1974)', '12 Homens e uma Sentença (1957)', 'A Lista de Schindler (1993)', 'O Senhor dos Anéis: O Retorno do Rei (2003)', ' Pulp Fiction: Tempo de Violência (1994)', 'O Senhor dos Anéis: A Sociedade do Anel (2001)', 'Três Homens em Conflito (1966)',' Pulp Fiction: Tempo de Violência (1994)', 'O Senhor dos Anéis: A Sociedade do Anel (2001)', 'Três Homens em Conflito (1966)']\n",
        "print(filmes_repetidos)"
      ],
      "execution_count": null,
      "outputs": [
        {
          "output_type": "stream",
          "name": "stdout",
          "text": [
            "['Um Sonho de Liberdade (1994)', 'O Poderoso Chefão (1972)', ' Batman: O Cavaleiro das Trevas (2008)', 'O Poderoso Chefão II (1974)', '12 Homens e uma Sentença (1957)', 'A Lista de Schindler (1993)', 'O Senhor dos Anéis: O Retorno do Rei (2003)', ' Pulp Fiction: Tempo de Violência (1994)', 'O Senhor dos Anéis: A Sociedade do Anel (2001)', 'Três Homens em Conflito (1966)', ' Pulp Fiction: Tempo de Violência (1994)', 'O Senhor dos Anéis: A Sociedade do Anel (2001)', 'Três Homens em Conflito (1966)']\n"
          ]
        }
      ]
    },
    {
      "cell_type": "markdown",
      "metadata": {
        "id": "suxTfCJB6ZiX"
      },
      "source": [
        "Utiliza a conversão `set` e `list` para remover os valores duplicados. Imprima o resultado."
      ]
    },
    {
      "cell_type": "code",
      "source": [
        "print(filmes_repetidos)\n",
        "print(type(filmes_repetidos))\n",
        "print(len(filmes_repetidos))\n",
        "\n",
        "filmes_nao_repetidos=set(filmes_repetidos)\n",
        "print(filmes_nao_repetidos)\n",
        "print(type(filmes_nao_repetidos))\n",
        "print(len(filmes_nao_repetidos))\n",
        "\n",
        "\n"
      ],
      "metadata": {
        "id": "UCL8J5BzgOIp",
        "colab": {
          "base_uri": "https://localhost:8080/"
        },
        "outputId": "5fd3f007-ac19-4e3f-e8f0-32c01a7ee377"
      },
      "execution_count": null,
      "outputs": [
        {
          "output_type": "stream",
          "name": "stdout",
          "text": [
            "['Um Sonho de Liberdade (1994)', 'O Poderoso Chefão (1972)', ' Batman: O Cavaleiro das Trevas (2008)', 'O Poderoso Chefão II (1974)', '12 Homens e uma Sentença (1957)', 'A Lista de Schindler (1993)', 'O Senhor dos Anéis: O Retorno do Rei (2003)', ' Pulp Fiction: Tempo de Violência (1994)', 'O Senhor dos Anéis: A Sociedade do Anel (2001)', 'Três Homens em Conflito (1966)', ' Pulp Fiction: Tempo de Violência (1994)', 'O Senhor dos Anéis: A Sociedade do Anel (2001)', 'Três Homens em Conflito (1966)']\n",
            "<class 'list'>\n",
            "13\n",
            "{'Um Sonho de Liberdade (1994)', 'O Poderoso Chefão (1972)', 'O Senhor dos Anéis: A Sociedade do Anel (2001)', 'O Senhor dos Anéis: O Retorno do Rei (2003)', ' Batman: O Cavaleiro das Trevas (2008)', '12 Homens e uma Sentença (1957)', 'O Poderoso Chefão II (1974)', 'A Lista de Schindler (1993)', ' Pulp Fiction: Tempo de Violência (1994)', 'Três Homens em Conflito (1966)'}\n",
            "<class 'set'>\n",
            "10\n"
          ]
        }
      ]
    },
    {
      "cell_type": "markdown",
      "metadata": {
        "id": "EL_FzmxL6rTv"
      },
      "source": [
        "## 3\\. Dicionários"
      ]
    },
    {
      "cell_type": "markdown",
      "metadata": {
        "id": "i8l0gFqRCpfT"
      },
      "source": [
        "Repita os exercícios da parte 1 (listas). Os elementos da lista `filmes` devem ser dicionários no seguinte formato: `{'nome': <nome-do-filme>, 'ano': <ano do filme>, 'sinopse': <sinopse do filme>}`."
      ]
    },
    {
      "cell_type": "code",
      "source": [
        "lista_filmes= [\n",
        "    'filme 1': {\n",
        "        'nome':'Um Sonho de Liberdade',\n",
        "        'ano':'1994',\n",
        "        'sinopse':'Dois homens presos se reúnem ao longo de vários anos, encontrando consolo e eventual redenção através de atos de decência comum.'\n",
        "    },\n",
        "    'filme 2': {\n",
        "        'nome':'O Poderoso Chefão',\n",
        "        'ano':'1972',\n",
        "        'sinopse': 'O patriarca idoso de uma dinastia do crime organizado transfere o controle de seu império clandestino para seu filho relutante.'\n",
        "    },\n",
        "    'filme 3':{\n",
        "        'nome':'Batman: O Cavaleiro das Trevas',\n",
        "        'ano':'2008',\n",
        "        'sinopse':'Quando a ameaça conhecida como O Coringa surge de seu passado, causa estragos e caos nas pessoas de Gotham. O Cavaleiro das Trevas deve aceitar um dos maiores testes para combater a injustiça.'\n",
        "    },\n",
        "    'filme 4':{\n",
        "        'nome':' Poderoso Chefão II',\n",
        "        'ano':'1974',\n",
        "        'sinopse':' Em 1950, Michael Corleone, agora à frente da família, tenta expandir o negócio do crime a Las Vegas, Los Angeles e Cuba. Paralelamente, é revelada a história de Vito Corleone, e de como saiu da Sicília e chegou a Nova Iorque.'\n",
        "    },\n",
        "    'filme 5':{\n",
        "        'nome':'12 Homens e uma Sentença',\n",
        "        'ano':'1957',\n",
        "        'sinopse':'Um jurado que se aposenta tenta evitar um erro judicial forçando seus colegas a reconsiderarem as evidências.'\n",
        "        },\n",
        "    'filme 6':{\n",
        "        'nome':'A Lista de Schindler',\n",
        "        'ano':'1993',\n",
        "        'sinopse':'Depois de testemunhar a perseguição dos judaicos na Polônia ocupada pelos alemães durante a Segunda Guerra Mundial, o industrial Oskar Schindler começa a se preocupar com sua força de trabalho judaica.'\n",
        "    },\n",
        "    'filme 7':{\n",
        "        'nome': 'O Senhor dos Anéis: O Retorno do Rei',\n",
        "        'ano':'2003',\n",
        "        'sinopse':'Gandalf e Aragorn lideram o Mundo dos Homens contra o exército de Sauron para desviar o olhar de Frodo e Sam quando eles se aproximam á Montanha da Perdição com o Um Anel.'\n",
        "    },\n",
        "    'filme 8':{\n",
        "        'nome':'Pulp Fiction: Tempo de Violência',\n",
        "        'ano':'1994',\n",
        "        'sinopse':'As vidas de dois assassinos da máfia, um boxeador, um gângster e sua esposa, e um par de bandidos se entrelaçam em quatro histórias de violência e redenção.'\n",
        "    },\n",
        "    'filme 9':{\n",
        "        'nome':'O Senhor dos Anéis: A Sociedade do Anel',\n",
        "        'ano':'2001',\n",
        "        'sinopse':'Um manso hobbit do Condado e oito companheiros partem em uma jornada para destruir o poderoso Um Anel e salvar a Terra-média das Trevas.'\n",
        "    },\n",
        "    'filme 10':{\n",
        "        'nome':'Três Homens em Conflito',\n",
        "        'ano':'1966',\n",
        "        'sinopse':'Um impostor se junta com dois homens para encontrar fortuna num remoto cemitério.'\n",
        "\n",
        "    },\n",
        "\n",
        "]\n",
        "\n",
        "print(lista_filmes)\n",
        "print(type(lista_filmes))"
      ],
      "metadata": {
        "colab": {
          "base_uri": "https://localhost:8080/"
        },
        "id": "WcD0uufr3MFA",
        "outputId": "4f75b697-0611-4852-c482-c57d78456059"
      },
      "execution_count": null,
      "outputs": [
        {
          "output_type": "stream",
          "name": "stdout",
          "text": [
            "{'filme 1': {'nome': 'Um Sonho de Liberdade', 'ano': '1994', 'sinopse': 'Dois homens presos se reúnem ao longo de vários anos, encontrando consolo e eventual redenção através de atos de decência comum.'}, 'filme 2': {'nome': 'O Poderoso Chefão', 'ano': '1972', 'sinopse': 'O patriarca idoso de uma dinastia do crime organizado transfere o controle de seu império clandestino para seu filho relutante.'}, 'filme 3': {'nome': 'Batman: O Cavaleiro das Trevas', 'ano': '2008', 'sinopse': 'Quando a ameaça conhecida como O Coringa surge de seu passado, causa estragos e caos nas pessoas de Gotham. O Cavaleiro das Trevas deve aceitar um dos maiores testes para combater a injustiça.'}, 'filme 4': {'nome': ' Poderoso Chefão II', 'ano': '1974', 'sinopse': ' Em 1950, Michael Corleone, agora à frente da família, tenta expandir o negócio do crime a Las Vegas, Los Angeles e Cuba. Paralelamente, é revelada a história de Vito Corleone, e de como saiu da Sicília e chegou a Nova Iorque.'}, 'filme 5': {'nome': '12 Homens e uma Sentença', 'ano': '1957', 'sinopse': 'Um jurado que se aposenta tenta evitar um erro judicial forçando seus colegas a reconsiderarem as evidências.'}, 'filme 6': {'nome': 'A Lista de Schindler', 'ano': '1993', 'sinopse': 'Depois de testemunhar a perseguição dos judaicos na Polônia ocupada pelos alemães durante a Segunda Guerra Mundial, o industrial Oskar Schindler começa a se preocupar com sua força de trabalho judaica.'}, 'filme 7': {'nome': 'O Senhor dos Anéis: O Retorno do Rei', 'ano': '2003', 'sinopse': 'Gandalf e Aragorn lideram o Mundo dos Homens contra o exército de Sauron para desviar o olhar de Frodo e Sam quando eles se aproximam á Montanha da Perdição com o Um Anel.'}, 'filme 8': {'nome': 'Pulp Fiction: Tempo de Violência', 'ano': '1994', 'sinopse': 'As vidas de dois assassinos da máfia, um boxeador, um gângster e sua esposa, e um par de bandidos se entrelaçam em quatro histórias de violência e redenção.'}, 'filme 9': {'nome': 'O Senhor dos Anéis: A Sociedade do Anel', 'ano': '2001', 'sinopse': 'Um manso hobbit do Condado e oito companheiros partem em uma jornada para destruir o poderoso Um Anel e salvar a Terra-média das Trevas.'}, 'filme 10': {'nome': 'Três Homens em Conflito', 'ano': '1966', 'sinopse': 'Um impostor se junta com dois homens para encontrar fortuna num remoto cemitério.'}}\n",
            "<class 'dict'>\n"
          ]
        }
      ]
    },
    {
      "cell_type": "code",
      "source": [
        "lista_filmes['filme 6']['ano']"
      ],
      "metadata": {
        "colab": {
          "base_uri": "https://localhost:8080/",
          "height": 35
        },
        "id": "O7Ei9323hvnR",
        "outputId": "de470059-01f8-4087-8dd8-6b8af01d8d94"
      },
      "execution_count": null,
      "outputs": [
        {
          "output_type": "execute_result",
          "data": {
            "text/plain": [
              "'1993'"
            ],
            "application/vnd.google.colaboratory.intrinsic+json": {
              "type": "string"
            }
          },
          "metadata": {},
          "execution_count": 52
        }
      ]
    }
  ]
}